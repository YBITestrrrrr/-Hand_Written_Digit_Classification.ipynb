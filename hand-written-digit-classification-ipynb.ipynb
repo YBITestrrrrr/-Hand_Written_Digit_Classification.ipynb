{
 "cells": [
  {
   "cell_type": "markdown",
   "id": "f8bfe611",
   "metadata": {
    "papermill": {
     "duration": 0.0151,
     "end_time": "2023-04-19T14:04:39.129296",
     "exception": false,
     "start_time": "2023-04-19T14:04:39.114196",
     "status": "completed"
    },
    "tags": []
   },
   "source": [
    "Import Library"
   ]
  },
  {
   "cell_type": "code",
   "execution_count": 1,
   "id": "dff55113",
   "metadata": {
    "execution": {
     "iopub.execute_input": "2023-04-19T14:04:39.151123Z",
     "iopub.status.busy": "2023-04-19T14:04:39.150073Z",
     "iopub.status.idle": "2023-04-19T14:04:39.163963Z",
     "shell.execute_reply": "2023-04-19T14:04:39.162668Z"
    },
    "papermill": {
     "duration": 0.028378,
     "end_time": "2023-04-19T14:04:39.167040",
     "exception": false,
     "start_time": "2023-04-19T14:04:39.138662",
     "status": "completed"
    },
    "tags": []
   },
   "outputs": [],
   "source": [
    "import pandas as pd"
   ]
  },
  {
   "cell_type": "code",
   "execution_count": 2,
   "id": "ed384c62",
   "metadata": {
    "execution": {
     "iopub.execute_input": "2023-04-19T14:04:39.188153Z",
     "iopub.status.busy": "2023-04-19T14:04:39.187351Z",
     "iopub.status.idle": "2023-04-19T14:04:39.192923Z",
     "shell.execute_reply": "2023-04-19T14:04:39.191968Z"
    },
    "papermill": {
     "duration": 0.019096,
     "end_time": "2023-04-19T14:04:39.195389",
     "exception": false,
     "start_time": "2023-04-19T14:04:39.176293",
     "status": "completed"
    },
    "tags": []
   },
   "outputs": [],
   "source": [
    "import numpy as np\n"
   ]
  },
  {
   "cell_type": "code",
   "execution_count": 3,
   "id": "08c62753",
   "metadata": {
    "execution": {
     "iopub.execute_input": "2023-04-19T14:04:39.215704Z",
     "iopub.status.busy": "2023-04-19T14:04:39.214881Z",
     "iopub.status.idle": "2023-04-19T14:04:39.220322Z",
     "shell.execute_reply": "2023-04-19T14:04:39.219372Z"
    },
    "papermill": {
     "duration": 0.018529,
     "end_time": "2023-04-19T14:04:39.222770",
     "exception": false,
     "start_time": "2023-04-19T14:04:39.204241",
     "status": "completed"
    },
    "tags": []
   },
   "outputs": [],
   "source": [
    "import matplotlib.pyplot as plt\n"
   ]
  },
  {
   "cell_type": "markdown",
   "id": "42ba6cf6",
   "metadata": {
    "papermill": {
     "duration": 0.008373,
     "end_time": "2023-04-19T14:04:39.240232",
     "exception": false,
     "start_time": "2023-04-19T14:04:39.231859",
     "status": "completed"
    },
    "tags": []
   },
   "source": [
    "Import Data"
   ]
  },
  {
   "cell_type": "code",
   "execution_count": 4,
   "id": "4aec3559",
   "metadata": {
    "execution": {
     "iopub.execute_input": "2023-04-19T14:04:39.261341Z",
     "iopub.status.busy": "2023-04-19T14:04:39.260528Z",
     "iopub.status.idle": "2023-04-19T14:04:40.509199Z",
     "shell.execute_reply": "2023-04-19T14:04:40.507348Z"
    },
    "papermill": {
     "duration": 1.263203,
     "end_time": "2023-04-19T14:04:40.512679",
     "exception": false,
     "start_time": "2023-04-19T14:04:39.249476",
     "status": "completed"
    },
    "tags": []
   },
   "outputs": [],
   "source": [
    "from sklearn.datasets import load_digits"
   ]
  },
  {
   "cell_type": "code",
   "execution_count": 5,
   "id": "b70276c3",
   "metadata": {
    "execution": {
     "iopub.execute_input": "2023-04-19T14:04:40.533899Z",
     "iopub.status.busy": "2023-04-19T14:04:40.533389Z",
     "iopub.status.idle": "2023-04-19T14:04:40.637021Z",
     "shell.execute_reply": "2023-04-19T14:04:40.635780Z"
    },
    "papermill": {
     "duration": 0.117698,
     "end_time": "2023-04-19T14:04:40.640001",
     "exception": false,
     "start_time": "2023-04-19T14:04:40.522303",
     "status": "completed"
    },
    "tags": []
   },
   "outputs": [],
   "source": [
    "df = load_digits()"
   ]
  },
  {
   "cell_type": "code",
   "execution_count": 6,
   "id": "c0180136",
   "metadata": {
    "execution": {
     "iopub.execute_input": "2023-04-19T14:04:40.662593Z",
     "iopub.status.busy": "2023-04-19T14:04:40.661544Z",
     "iopub.status.idle": "2023-04-19T14:04:40.908229Z",
     "shell.execute_reply": "2023-04-19T14:04:40.906285Z"
    },
    "papermill": {
     "duration": 0.262663,
     "end_time": "2023-04-19T14:04:40.913246",
     "exception": false,
     "start_time": "2023-04-19T14:04:40.650583",
     "status": "completed"
    },
    "tags": []
   },
   "outputs": [
    {
     "data": {
      "image/png": "[encoded data removed]",
      "text/plain": [
       "<Figure size 1000x300 with 4 Axes>"
      ]
     },
     "metadata": {},
     "output_type": "display_data"
    }
   ],
   "source": [
    "_, axes = plt.subplots(nrows=1, ncols=4, figsize=(10,3))\n",
    "for ax, image, label in zip(axes, df.images, df.target):\n",
    "  ax.set_axis_off()\n",
    "  ax.imshow(image, cmap=plt.cm.gray_r, interpolation=\"nearest\")\n",
    "  ax.set_title(\"Training: %i \" % label)"
   ]
  },
  {
   "cell_type": "code",
   "execution_count": 7,
   "id": "58cf7a94",
   "metadata": {
    "execution": {
     "iopub.execute_input": "2023-04-19T14:04:40.945367Z",
     "iopub.status.busy": "2023-04-19T14:04:40.944018Z",
     "iopub.status.idle": "2023-04-19T14:04:40.952481Z",
     "shell.execute_reply": "2023-04-19T14:04:40.951179Z"
    },
    "papermill": {
     "duration": 0.022395,
     "end_time": "2023-04-19T14:04:40.954907",
     "exception": false,
     "start_time": "2023-04-19T14:04:40.932512",
     "status": "completed"
    },
    "tags": []
   },
   "outputs": [
    {
     "data": {
      "text/plain": [
       "(1797, 8, 8)"
      ]
     },
     "execution_count": 7,
     "metadata": {},
     "output_type": "execute_result"
    }
   ],
   "source": [
    "df.images.shape"
   ]
  },
  {
   "cell_type": "markdown",
   "id": "44996d62",
   "metadata": {
    "papermill": {
     "duration": 0.008772,
     "end_time": "2023-04-19T14:04:40.973153",
     "exception": false,
     "start_time": "2023-04-19T14:04:40.964381",
     "status": "completed"
    },
    "tags": []
   },
   "source": [
    "## Data Preprocessing\n",
    "Flatten Image"
   ]
  },
  {
   "cell_type": "code",
   "execution_count": 8,
   "id": "227db09f",
   "metadata": {
    "execution": {
     "iopub.execute_input": "2023-04-19T14:04:40.993932Z",
     "iopub.status.busy": "2023-04-19T14:04:40.993392Z",
     "iopub.status.idle": "2023-04-19T14:04:41.003128Z",
     "shell.execute_reply": "2023-04-19T14:04:41.002089Z"
    },
    "papermill": {
     "duration": 0.022939,
     "end_time": "2023-04-19T14:04:41.005417",
     "exception": false,
     "start_time": "2023-04-19T14:04:40.982478",
     "status": "completed"
    },
    "tags": []
   },
   "outputs": [
    {
     "data": {
      "text/plain": [
       "array([[ 0.,  0.,  5., 13.,  9.,  1.,  0.,  0.],\n",
       "       [ 0.,  0., 13., 15., 10., 15.,  5.,  0.],\n",
       "       [ 0.,  3., 15.,  2.,  0., 11.,  8.,  0.],\n",
       "       [ 0.,  4., 12.,  0.,  0.,  8.,  8.,  0.],\n",
       "       [ 0.,  5.,  8.,  0.,  0.,  9.,  8.,  0.],\n",
       "       [ 0.,  4., 11.,  0.,  1., 12.,  7.,  0.],\n",
       "       [ 0.,  2., 14.,  5., 10., 12.,  0.,  0.],\n",
       "       [ 0.,  0.,  6., 13., 10.,  0.,  0.,  0.]])"
      ]
     },
     "execution_count": 8,
     "metadata": {},
     "output_type": "execute_result"
    }
   ],
   "source": [
    "df.images[0]"
   ]
  },
  {
   "cell_type": "code",
   "execution_count": 9,
   "id": "07938abb",
   "metadata": {
    "execution": {
     "iopub.execute_input": "2023-04-19T14:04:41.027474Z",
     "iopub.status.busy": "2023-04-19T14:04:41.026505Z",
     "iopub.status.idle": "2023-04-19T14:04:41.033594Z",
     "shell.execute_reply": "2023-04-19T14:04:41.032479Z"
    },
    "papermill": {
     "duration": 0.021158,
     "end_time": "2023-04-19T14:04:41.036174",
     "exception": false,
     "start_time": "2023-04-19T14:04:41.015016",
     "status": "completed"
    },
    "tags": []
   },
   "outputs": [
    {
     "data": {
      "text/plain": [
       "(8, 8)"
      ]
     },
     "execution_count": 9,
     "metadata": {},
     "output_type": "execute_result"
    }
   ],
   "source": [
    "df.images[0].shape"
   ]
  },
  {
   "cell_type": "code",
   "execution_count": 10,
   "id": "f73ddb60",
   "metadata": {
    "execution": {
     "iopub.execute_input": "2023-04-19T14:04:41.058713Z",
     "iopub.status.busy": "2023-04-19T14:04:41.057773Z",
     "iopub.status.idle": "2023-04-19T14:04:41.064704Z",
     "shell.execute_reply": "2023-04-19T14:04:41.063488Z"
    },
    "papermill": {
     "duration": 0.021234,
     "end_time": "2023-04-19T14:04:41.067236",
     "exception": false,
     "start_time": "2023-04-19T14:04:41.046002",
     "status": "completed"
    },
    "tags": []
   },
   "outputs": [
    {
     "data": {
      "text/plain": [
       "1797"
      ]
     },
     "execution_count": 10,
     "metadata": {},
     "output_type": "execute_result"
    }
   ],
   "source": [
    "len(df.images)"
   ]
  },
  {
   "cell_type": "code",
   "execution_count": 11,
   "id": "1932d9bf",
   "metadata": {
    "execution": {
     "iopub.execute_input": "2023-04-19T14:04:41.089753Z",
     "iopub.status.busy": "2023-04-19T14:04:41.089215Z",
     "iopub.status.idle": "2023-04-19T14:04:41.095579Z",
     "shell.execute_reply": "2023-04-19T14:04:41.094194Z"
    },
    "papermill": {
     "duration": 0.020894,
     "end_time": "2023-04-19T14:04:41.098016",
     "exception": false,
     "start_time": "2023-04-19T14:04:41.077122",
     "status": "completed"
    },
    "tags": []
   },
   "outputs": [],
   "source": [
    "n_samples = len(df.images)\n",
    "data = df.images.reshape((n_samples, -1))"
   ]
  },
  {
   "cell_type": "code",
   "execution_count": 12,
   "id": "4e188eed",
   "metadata": {
    "execution": {
     "iopub.execute_input": "2023-04-19T14:04:41.120114Z",
     "iopub.status.busy": "2023-04-19T14:04:41.119602Z",
     "iopub.status.idle": "2023-04-19T14:04:41.128684Z",
     "shell.execute_reply": "2023-04-19T14:04:41.127344Z"
    },
    "papermill": {
     "duration": 0.02329,
     "end_time": "2023-04-19T14:04:41.131143",
     "exception": false,
     "start_time": "2023-04-19T14:04:41.107853",
     "status": "completed"
    },
    "tags": []
   },
   "outputs": [
    {
     "data": {
      "text/plain": [
       "array([ 0.,  0.,  5., 13.,  9.,  1.,  0.,  0.,  0.,  0., 13., 15., 10.,\n",
       "       15.,  5.,  0.,  0.,  3., 15.,  2.,  0., 11.,  8.,  0.,  0.,  4.,\n",
       "       12.,  0.,  0.,  8.,  8.,  0.,  0.,  5.,  8.,  0.,  0.,  9.,  8.,\n",
       "        0.,  0.,  4., 11.,  0.,  1., 12.,  7.,  0.,  0.,  2., 14.,  5.,\n",
       "       10., 12.,  0.,  0.,  0.,  0.,  6., 13., 10.,  0.,  0.,  0.])"
      ]
     },
     "execution_count": 12,
     "metadata": {},
     "output_type": "execute_result"
    }
   ],
   "source": [
    "data[0]"
   ]
  },
  {
   "cell_type": "code",
   "execution_count": 13,
   "id": "a5cbf4f6",
   "metadata": {
    "execution": {
     "iopub.execute_input": "2023-04-19T14:04:41.153818Z",
     "iopub.status.busy": "2023-04-19T14:04:41.152666Z",
     "iopub.status.idle": "2023-04-19T14:04:41.160910Z",
     "shell.execute_reply": "2023-04-19T14:04:41.159605Z"
    },
    "papermill": {
     "duration": 0.022409,
     "end_time": "2023-04-19T14:04:41.163520",
     "exception": false,
     "start_time": "2023-04-19T14:04:41.141111",
     "status": "completed"
    },
    "tags": []
   },
   "outputs": [
    {
     "data": {
      "text/plain": [
       "(64,)"
      ]
     },
     "execution_count": 13,
     "metadata": {},
     "output_type": "execute_result"
    }
   ],
   "source": [
    "data[0].shape"
   ]
  },
  {
   "cell_type": "code",
   "execution_count": 14,
   "id": "661f5485",
   "metadata": {
    "execution": {
     "iopub.execute_input": "2023-04-19T14:04:41.186476Z",
     "iopub.status.busy": "2023-04-19T14:04:41.185297Z",
     "iopub.status.idle": "2023-04-19T14:04:41.193590Z",
     "shell.execute_reply": "2023-04-19T14:04:41.192326Z"
    },
    "papermill": {
     "duration": 0.022754,
     "end_time": "2023-04-19T14:04:41.196467",
     "exception": false,
     "start_time": "2023-04-19T14:04:41.173713",
     "status": "completed"
    },
    "tags": []
   },
   "outputs": [
    {
     "data": {
      "text/plain": [
       "(1797, 64)"
      ]
     },
     "execution_count": 14,
     "metadata": {},
     "output_type": "execute_result"
    }
   ],
   "source": [
    "data.shape"
   ]
  },
  {
   "cell_type": "markdown",
   "id": "f53c89f2",
   "metadata": {
    "papermill": {
     "duration": 0.009519,
     "end_time": "2023-04-19T14:04:41.216238",
     "exception": false,
     "start_time": "2023-04-19T14:04:41.206719",
     "status": "completed"
    },
    "tags": []
   },
   "source": [
    "## Scaling Image Data"
   ]
  },
  {
   "cell_type": "code",
   "execution_count": 15,
   "id": "05ad487c",
   "metadata": {
    "execution": {
     "iopub.execute_input": "2023-04-19T14:04:41.238999Z",
     "iopub.status.busy": "2023-04-19T14:04:41.238543Z",
     "iopub.status.idle": "2023-04-19T14:04:41.246237Z",
     "shell.execute_reply": "2023-04-19T14:04:41.245115Z"
    },
    "papermill": {
     "duration": 0.02266,
     "end_time": "2023-04-19T14:04:41.248871",
     "exception": false,
     "start_time": "2023-04-19T14:04:41.226211",
     "status": "completed"
    },
    "tags": []
   },
   "outputs": [
    {
     "data": {
      "text/plain": [
       "0.0"
      ]
     },
     "execution_count": 15,
     "metadata": {},
     "output_type": "execute_result"
    }
   ],
   "source": [
    "data.min()"
   ]
  },
  {
   "cell_type": "code",
   "execution_count": 16,
   "id": "40b693b3",
   "metadata": {
    "execution": {
     "iopub.execute_input": "2023-04-19T14:04:41.271462Z",
     "iopub.status.busy": "2023-04-19T14:04:41.270568Z",
     "iopub.status.idle": "2023-04-19T14:04:41.278742Z",
     "shell.execute_reply": "2023-04-19T14:04:41.277494Z"
    },
    "papermill": {
     "duration": 0.022462,
     "end_time": "2023-04-19T14:04:41.281345",
     "exception": false,
     "start_time": "2023-04-19T14:04:41.258883",
     "status": "completed"
    },
    "tags": []
   },
   "outputs": [
    {
     "data": {
      "text/plain": [
       "16.0"
      ]
     },
     "execution_count": 16,
     "metadata": {},
     "output_type": "execute_result"
    }
   ],
   "source": [
    "data.max()"
   ]
  },
  {
   "cell_type": "code",
   "execution_count": 17,
   "id": "b2fc320d",
   "metadata": {
    "execution": {
     "iopub.execute_input": "2023-04-19T14:04:41.305075Z",
     "iopub.status.busy": "2023-04-19T14:04:41.303705Z",
     "iopub.status.idle": "2023-04-19T14:04:41.310167Z",
     "shell.execute_reply": "2023-04-19T14:04:41.309071Z"
    },
    "papermill": {
     "duration": 0.021234,
     "end_time": "2023-04-19T14:04:41.313032",
     "exception": false,
     "start_time": "2023-04-19T14:04:41.291798",
     "status": "completed"
    },
    "tags": []
   },
   "outputs": [],
   "source": [
    "data = data/16"
   ]
  },
  {
   "cell_type": "code",
   "execution_count": 18,
   "id": "369442f4",
   "metadata": {
    "execution": {
     "iopub.execute_input": "2023-04-19T14:04:41.335892Z",
     "iopub.status.busy": "2023-04-19T14:04:41.335417Z",
     "iopub.status.idle": "2023-04-19T14:04:41.342180Z",
     "shell.execute_reply": "2023-04-19T14:04:41.341317Z"
    },
    "papermill": {
     "duration": 0.020976,
     "end_time": "2023-04-19T14:04:41.344316",
     "exception": false,
     "start_time": "2023-04-19T14:04:41.323340",
     "status": "completed"
    },
    "tags": []
   },
   "outputs": [
    {
     "data": {
      "text/plain": [
       "0.0"
      ]
     },
     "execution_count": 18,
     "metadata": {},
     "output_type": "execute_result"
    }
   ],
   "source": [
    "data.min()"
   ]
  },
  {
   "cell_type": "code",
   "execution_count": 19,
   "id": "d6e4c0c0",
   "metadata": {
    "execution": {
     "iopub.execute_input": "2023-04-19T14:04:41.366706Z",
     "iopub.status.busy": "2023-04-19T14:04:41.366247Z",
     "iopub.status.idle": "2023-04-19T14:04:41.372818Z",
     "shell.execute_reply": "2023-04-19T14:04:41.371969Z"
    },
    "papermill": {
     "duration": 0.020424,
     "end_time": "2023-04-19T14:04:41.374897",
     "exception": false,
     "start_time": "2023-04-19T14:04:41.354473",
     "status": "completed"
    },
    "tags": []
   },
   "outputs": [
    {
     "data": {
      "text/plain": [
       "1.0"
      ]
     },
     "execution_count": 19,
     "metadata": {},
     "output_type": "execute_result"
    }
   ],
   "source": [
    "data.max()"
   ]
  },
  {
   "cell_type": "code",
   "execution_count": 20,
   "id": "3da33a93",
   "metadata": {
    "execution": {
     "iopub.execute_input": "2023-04-19T14:04:41.398332Z",
     "iopub.status.busy": "2023-04-19T14:04:41.397393Z",
     "iopub.status.idle": "2023-04-19T14:04:41.405495Z",
     "shell.execute_reply": "2023-04-19T14:04:41.404247Z"
    },
    "papermill": {
     "duration": 0.022944,
     "end_time": "2023-04-19T14:04:41.408304",
     "exception": false,
     "start_time": "2023-04-19T14:04:41.385360",
     "status": "completed"
    },
    "tags": []
   },
   "outputs": [
    {
     "data": {
      "text/plain": [
       "array([0.    , 0.    , 0.3125, 0.8125, 0.5625, 0.0625, 0.    , 0.    ,\n",
       "       0.    , 0.    , 0.8125, 0.9375, 0.625 , 0.9375, 0.3125, 0.    ,\n",
       "       0.    , 0.1875, 0.9375, 0.125 , 0.    , 0.6875, 0.5   , 0.    ,\n",
       "       0.    , 0.25  , 0.75  , 0.    , 0.    , 0.5   , 0.5   , 0.    ,\n",
       "       0.    , 0.3125, 0.5   , 0.    , 0.    , 0.5625, 0.5   , 0.    ,\n",
       "       0.    , 0.25  , 0.6875, 0.    , 0.0625, 0.75  , 0.4375, 0.    ,\n",
       "       0.    , 0.125 , 0.875 , 0.3125, 0.625 , 0.75  , 0.    , 0.    ,\n",
       "       0.    , 0.    , 0.375 , 0.8125, 0.625 , 0.    , 0.    , 0.    ])"
      ]
     },
     "execution_count": 20,
     "metadata": {},
     "output_type": "execute_result"
    }
   ],
   "source": [
    "data[0]"
   ]
  },
  {
   "cell_type": "markdown",
   "id": "e9226800",
   "metadata": {
    "papermill": {
     "duration": 0.010056,
     "end_time": "2023-04-19T14:04:41.429179",
     "exception": false,
     "start_time": "2023-04-19T14:04:41.419123",
     "status": "completed"
    },
    "tags": []
   },
   "source": [
    "## Train Test Split Data"
   ]
  },
  {
   "cell_type": "code",
   "execution_count": 21,
   "id": "ad83defe",
   "metadata": {
    "execution": {
     "iopub.execute_input": "2023-04-19T14:04:41.452149Z",
     "iopub.status.busy": "2023-04-19T14:04:41.451621Z",
     "iopub.status.idle": "2023-04-19T14:04:41.523300Z",
     "shell.execute_reply": "2023-04-19T14:04:41.521973Z"
    },
    "papermill": {
     "duration": 0.087192,
     "end_time": "2023-04-19T14:04:41.526783",
     "exception": false,
     "start_time": "2023-04-19T14:04:41.439591",
     "status": "completed"
    },
    "tags": []
   },
   "outputs": [],
   "source": [
    "from sklearn.model_selection import train_test_split"
   ]
  },
  {
   "cell_type": "code",
   "execution_count": 22,
   "id": "9df84d6d",
   "metadata": {
    "execution": {
     "iopub.execute_input": "2023-04-19T14:04:41.551509Z",
     "iopub.status.busy": "2023-04-19T14:04:41.550394Z",
     "iopub.status.idle": "2023-04-19T14:04:41.559182Z",
     "shell.execute_reply": "2023-04-19T14:04:41.557827Z"
    },
    "papermill": {
     "duration": 0.023558,
     "end_time": "2023-04-19T14:04:41.561796",
     "exception": false,
     "start_time": "2023-04-19T14:04:41.538238",
     "status": "completed"
    },
    "tags": []
   },
   "outputs": [],
   "source": [
    "x_train, x_test, y_train, y_test = train_test_split(data, df.target, test_size=0.3)"
   ]
  },
  {
   "cell_type": "code",
   "execution_count": 23,
   "id": "2de1f8df",
   "metadata": {
    "execution": {
     "iopub.execute_input": "2023-04-19T14:04:41.586021Z",
     "iopub.status.busy": "2023-04-19T14:04:41.584934Z",
     "iopub.status.idle": "2023-04-19T14:04:41.592606Z",
     "shell.execute_reply": "2023-04-19T14:04:41.591522Z"
    },
    "papermill": {
     "duration": 0.022419,
     "end_time": "2023-04-19T14:04:41.595098",
     "exception": false,
     "start_time": "2023-04-19T14:04:41.572679",
     "status": "completed"
    },
    "tags": []
   },
   "outputs": [
    {
     "data": {
      "text/plain": [
       "((1257, 64), (540, 64), (1257,), (540,))"
      ]
     },
     "execution_count": 23,
     "metadata": {},
     "output_type": "execute_result"
    }
   ],
   "source": [
    "x_train.shape, x_test.shape, y_train.shape, y_test.shape"
   ]
  },
  {
   "cell_type": "markdown",
   "id": "8ba0d7ae",
   "metadata": {
    "papermill": {
     "duration": 0.010159,
     "end_time": "2023-04-19T14:04:41.616115",
     "exception": false,
     "start_time": "2023-04-19T14:04:41.605956",
     "status": "completed"
    },
    "tags": []
   },
   "source": [
    "## Random Forest Model"
   ]
  },
  {
   "cell_type": "code",
   "execution_count": 24,
   "id": "8753c482",
   "metadata": {
    "execution": {
     "iopub.execute_input": "2023-04-19T14:04:41.640358Z",
     "iopub.status.busy": "2023-04-19T14:04:41.639498Z",
     "iopub.status.idle": "2023-04-19T14:04:42.037982Z",
     "shell.execute_reply": "2023-04-19T14:04:42.036569Z"
    },
    "papermill": {
     "duration": 0.414582,
     "end_time": "2023-04-19T14:04:42.041368",
     "exception": false,
     "start_time": "2023-04-19T14:04:41.626786",
     "status": "completed"
    },
    "tags": []
   },
   "outputs": [],
   "source": [
    "from sklearn.ensemble import RandomForestClassifier"
   ]
  },
  {
   "cell_type": "code",
   "execution_count": 25,
   "id": "2f40b1d4",
   "metadata": {
    "execution": {
     "iopub.execute_input": "2023-04-19T14:04:42.065603Z",
     "iopub.status.busy": "2023-04-19T14:04:42.064689Z",
     "iopub.status.idle": "2023-04-19T14:04:42.070620Z",
     "shell.execute_reply": "2023-04-19T14:04:42.069334Z"
    },
    "papermill": {
     "duration": 0.020838,
     "end_time": "2023-04-19T14:04:42.073158",
     "exception": false,
     "start_time": "2023-04-19T14:04:42.052320",
     "status": "completed"
    },
    "tags": []
   },
   "outputs": [],
   "source": [
    "rf = RandomForestClassifier()"
   ]
  },
  {
   "cell_type": "code",
   "execution_count": 26,
   "id": "24f096d5",
   "metadata": {
    "execution": {
     "iopub.execute_input": "2023-04-19T14:04:42.098160Z",
     "iopub.status.busy": "2023-04-19T14:04:42.097697Z",
     "iopub.status.idle": "2023-04-19T14:04:42.465394Z",
     "shell.execute_reply": "2023-04-19T14:04:42.463960Z"
    },
    "papermill": {
     "duration": 0.384911,
     "end_time": "2023-04-19T14:04:42.468940",
     "exception": false,
     "start_time": "2023-04-19T14:04:42.084029",
     "status": "completed"
    },
    "tags": []
   },
   "outputs": [
    {
     "data": {
      "text/plain": [
       "RandomForestClassifier()"
      ]
     },
     "execution_count": 26,
     "metadata": {},
     "output_type": "execute_result"
    }
   ],
   "source": [
    "rf.fit(x_train, y_train)"
   ]
  },
  {
   "cell_type": "markdown",
   "id": "08b91a31",
   "metadata": {
    "papermill": {
     "duration": 0.010279,
     "end_time": "2023-04-19T14:04:42.490227",
     "exception": false,
     "start_time": "2023-04-19T14:04:42.479948",
     "status": "completed"
    },
    "tags": []
   },
   "source": [
    "## Predict Test Data"
   ]
  },
  {
   "cell_type": "code",
   "execution_count": 27,
   "id": "7d63b50e",
   "metadata": {
    "execution": {
     "iopub.execute_input": "2023-04-19T14:04:42.514367Z",
     "iopub.status.busy": "2023-04-19T14:04:42.513333Z",
     "iopub.status.idle": "2023-04-19T14:04:42.547328Z",
     "shell.execute_reply": "2023-04-19T14:04:42.545849Z"
    },
    "papermill": {
     "duration": 0.049674,
     "end_time": "2023-04-19T14:04:42.550602",
     "exception": false,
     "start_time": "2023-04-19T14:04:42.500928",
     "status": "completed"
    },
    "tags": []
   },
   "outputs": [],
   "source": [
    "y_pred = rf.predict(x_test)"
   ]
  },
  {
   "cell_type": "code",
   "execution_count": 28,
   "id": "6046bf3b",
   "metadata": {
    "execution": {
     "iopub.execute_input": "2023-04-19T14:04:42.574373Z",
     "iopub.status.busy": "2023-04-19T14:04:42.573856Z",
     "iopub.status.idle": "2023-04-19T14:04:42.582980Z",
     "shell.execute_reply": "2023-04-19T14:04:42.581730Z"
    },
    "papermill": {
     "duration": 0.023972,
     "end_time": "2023-04-19T14:04:42.585378",
     "exception": false,
     "start_time": "2023-04-19T14:04:42.561406",
     "status": "completed"
    },
    "tags": []
   },
   "outputs": [
    {
     "data": {
      "text/plain": [
       "array([3, 8, 3, 2, 2, 7, 2, 9, 4, 5, 7, 1, 2, 0, 2, 8, 1, 7, 3, 3, 5, 9,\n",
       "       3, 0, 3, 0, 2, 8, 6, 0, 5, 6, 5, 9, 8, 6, 6, 6, 8, 1, 4, 4, 0, 8,\n",
       "       2, 2, 5, 6, 1, 9, 3, 7, 4, 5, 6, 0, 7, 8, 8, 8, 7, 4, 8, 1, 4, 7,\n",
       "       8, 8, 1, 1, 6, 6, 8, 1, 2, 5, 0, 3, 5, 4, 2, 2, 3, 1, 7, 0, 7, 6,\n",
       "       3, 5, 2, 4, 6, 6, 1, 3, 2, 9, 4, 3, 0, 0, 5, 9, 1, 7, 9, 0, 1, 0,\n",
       "       4, 4, 3, 1, 7, 7, 3, 1, 3, 2, 8, 5, 5, 3, 8, 8, 3, 6, 9, 9, 0, 2,\n",
       "       8, 7, 1, 7, 5, 6, 0, 4, 7, 9, 9, 1, 6, 8, 8, 2, 9, 3, 1, 7, 7, 7,\n",
       "       0, 9, 0, 7, 9, 7, 1, 3, 0, 8, 2, 1, 4, 5, 4, 9, 0, 2, 4, 6, 1, 1,\n",
       "       0, 9, 8, 0, 8, 6, 4, 8, 5, 3, 5, 9, 6, 0, 1, 5, 6, 1, 0, 3, 1, 7,\n",
       "       4, 6, 4, 1, 3, 4, 8, 4, 7, 8, 7, 4, 0, 8, 1, 3, 7, 2, 0, 8, 0, 9,\n",
       "       2, 7, 9, 4, 6, 1, 1, 7, 6, 4, 3, 2, 6, 3, 5, 1, 7, 6, 1, 7, 5, 4,\n",
       "       1, 4, 4, 0, 1, 8, 6, 2, 2, 8, 1, 2, 7, 6, 0, 1, 0, 5, 5, 9, 6, 5,\n",
       "       4, 7, 4, 7, 4, 6, 5, 8, 6, 2, 6, 6, 0, 4, 8, 6, 3, 7, 1, 7, 5, 8,\n",
       "       1, 7, 4, 3, 8, 8, 9, 3, 2, 5, 9, 2, 0, 6, 7, 1, 4, 1, 1, 3, 7, 7,\n",
       "       5, 4, 1, 1, 7, 1, 1, 1, 1, 3, 4, 0, 8, 4, 2, 7, 8, 7, 0, 7, 9, 1,\n",
       "       1, 5, 6, 2, 4, 0, 2, 4, 7, 5, 0, 9, 4, 5, 6, 8, 8, 7, 5, 6, 5, 9,\n",
       "       4, 2, 1, 2, 8, 6, 7, 2, 4, 5, 5, 4, 7, 2, 6, 0, 0, 1, 0, 8, 0, 1,\n",
       "       8, 5, 2, 6, 1, 1, 5, 8, 2, 9, 9, 9, 4, 4, 7, 7, 4, 0, 6, 6, 7, 1,\n",
       "       9, 6, 9, 3, 0, 4, 7, 7, 7, 7, 6, 5, 4, 9, 0, 1, 8, 0, 1, 2, 7, 2,\n",
       "       5, 0, 3, 5, 9, 1, 6, 8, 2, 5, 6, 3, 4, 1, 3, 4, 4, 6, 3, 5, 2, 2,\n",
       "       1, 5, 8, 4, 0, 3, 1, 9, 1, 0, 0, 7, 9, 2, 4, 1, 4, 1, 6, 9, 7, 5,\n",
       "       1, 4, 3, 6, 0, 8, 5, 5, 4, 0, 8, 9, 4, 9, 4, 1, 0, 6, 9, 1, 5, 4,\n",
       "       1, 8, 4, 9, 0, 4, 1, 0, 0, 3, 2, 6, 9, 5, 7, 4, 2, 4, 5, 2, 8, 0,\n",
       "       4, 8, 0, 4, 3, 5, 5, 4, 9, 9, 5, 1, 4, 7, 8, 4, 1, 0, 7, 9, 5, 6,\n",
       "       0, 9, 2, 5, 0, 4, 8, 0, 2, 8, 2, 8])"
      ]
     },
     "execution_count": 28,
     "metadata": {},
     "output_type": "execute_result"
    }
   ],
   "source": [
    "y_pred"
   ]
  },
  {
   "cell_type": "markdown",
   "id": "f30d3710",
   "metadata": {
    "papermill": {
     "duration": 0.011024,
     "end_time": "2023-04-19T14:04:42.607386",
     "exception": false,
     "start_time": "2023-04-19T14:04:42.596362",
     "status": "completed"
    },
    "tags": []
   },
   "source": [
    "## Model Accuracy"
   ]
  },
  {
   "cell_type": "code",
   "execution_count": 29,
   "id": "ac0cfdef",
   "metadata": {
    "execution": {
     "iopub.execute_input": "2023-04-19T14:04:42.631286Z",
     "iopub.status.busy": "2023-04-19T14:04:42.630790Z",
     "iopub.status.idle": "2023-04-19T14:04:42.636940Z",
     "shell.execute_reply": "2023-04-19T14:04:42.635583Z"
    },
    "papermill": {
     "duration": 0.021519,
     "end_time": "2023-04-19T14:04:42.639854",
     "exception": false,
     "start_time": "2023-04-19T14:04:42.618335",
     "status": "completed"
    },
    "tags": []
   },
   "outputs": [],
   "source": [
    "from sklearn.metrics import confusion_matrix, classification_report"
   ]
  },
  {
   "cell_type": "code",
   "execution_count": 30,
   "id": "5877ea2c",
   "metadata": {
    "execution": {
     "iopub.execute_input": "2023-04-19T14:04:42.665129Z",
     "iopub.status.busy": "2023-04-19T14:04:42.663846Z",
     "iopub.status.idle": "2023-04-19T14:04:42.674666Z",
     "shell.execute_reply": "2023-04-19T14:04:42.673472Z"
    },
    "papermill": {
     "duration": 0.026152,
     "end_time": "2023-04-19T14:04:42.677281",
     "exception": false,
     "start_time": "2023-04-19T14:04:42.651129",
     "status": "completed"
    },
    "tags": []
   },
   "outputs": [
    {
     "data": {
      "text/plain": [
       "array([[58,  0,  0,  0,  2,  0,  0,  0,  0,  0],\n",
       "       [ 0, 65,  0,  0,  0,  0,  0,  0,  0,  0],\n",
       "       [ 0,  0, 48,  0,  0,  0,  0,  0,  1,  0],\n",
       "       [ 0,  0,  0, 39,  0,  0,  0,  0,  1,  1],\n",
       "       [ 0,  0,  0,  0, 61,  0,  0,  0,  0,  2],\n",
       "       [ 0,  0,  0,  0,  1, 52,  0,  0,  0,  1],\n",
       "       [ 0,  0,  0,  0,  1,  0, 51,  0,  0,  0],\n",
       "       [ 0,  0,  0,  0,  1,  0,  0, 58,  0,  0],\n",
       "       [ 0,  4,  0,  0,  1,  0,  0,  0, 51,  0],\n",
       "       [ 0,  0,  0,  0,  0,  0,  0,  0,  1, 40]])"
      ]
     },
     "execution_count": 30,
     "metadata": {},
     "output_type": "execute_result"
    }
   ],
   "source": [
    "confusion_matrix(y_test, y_pred)"
   ]
  },
  {
   "cell_type": "code",
   "execution_count": 31,
   "id": "260c6643",
   "metadata": {
    "execution": {
     "iopub.execute_input": "2023-04-19T14:04:42.702578Z",
     "iopub.status.busy": "2023-04-19T14:04:42.701440Z",
     "iopub.status.idle": "2023-04-19T14:04:42.714181Z",
     "shell.execute_reply": "2023-04-19T14:04:42.712979Z"
    },
    "papermill": {
     "duration": 0.028212,
     "end_time": "2023-04-19T14:04:42.716788",
     "exception": false,
     "start_time": "2023-04-19T14:04:42.688576",
     "status": "completed"
    },
    "tags": []
   },
   "outputs": [
    {
     "name": "stdout",
     "output_type": "stream",
     "text": [
      "              precision    recall  f1-score   support\n",
      "\n",
      "           0       1.00      0.97      0.98        60\n",
      "           1       0.94      1.00      0.97        65\n",
      "           2       1.00      0.98      0.99        49\n",
      "           3       1.00      0.95      0.97        41\n",
      "           4       0.91      0.97      0.94        63\n",
      "           5       1.00      0.96      0.98        54\n",
      "           6       1.00      0.98      0.99        52\n",
      "           7       1.00      0.98      0.99        59\n",
      "           8       0.94      0.91      0.93        56\n",
      "           9       0.91      0.98      0.94        41\n",
      "\n",
      "    accuracy                           0.97       540\n",
      "   macro avg       0.97      0.97      0.97       540\n",
      "weighted avg       0.97      0.97      0.97       540\n",
      "\n"
     ]
    }
   ],
   "source": [
    "print(classification_report(y_test, y_pred))"
   ]
  }
 ],
 "metadata": {
  "kernelspec": {
   "display_name": "Python 3",
   "language": "python",
   "name": "python3"
  },
  "language_info": {
   "codemirror_mode": {
    "name": "ipython",
    "version": 3
   },
   "file_extension": ".py",
   "mimetype": "text/x-python",
   "name": "python",
   "nbconvert_exporter": "python",
   "pygments_lexer": "ipython3",
   "version": "3.7.12"
  },
  "papermill": {
   "default_parameters": {},
   "duration": 16.276022,
   "end_time": "2023-04-19T14:04:43.856052",
   "environment_variables": {},
   "exception": null,
   "input_path": "__notebook__.ipynb",
   "output_path": "__notebook__.ipynb",
   "parameters": {},
   "start_time": "2023-04-19T14:04:27.580030",
   "version": "2.4.0"
  }
 },
 "nbformat": 4,
 "nbformat_minor": 5
}
